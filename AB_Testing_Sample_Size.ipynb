{
 "cells": [
  {
   "cell_type": "code",
   "execution_count": 3,
   "id": "ededa439",
   "metadata": {},
   "outputs": [],
   "source": [
    "from statsmodels.stats.power import zt_ind_solve_power\n",
    "from statsmodels.stats.proportion import proportion_effectsize as es"
   ]
  },
  {
   "cell_type": "code",
   "execution_count": 4,
   "id": "5e86e5b4",
   "metadata": {},
   "outputs": [],
   "source": [
    "#define variable for the computation\n",
    "\n",
    "default_conversion = 0.50\n",
    "alp = 0.05\n",
    "test_group_conversion = default_conversion + alp\n",
    "powerr = 0.8"
   ]
  },
  {
   "cell_type": "code",
   "execution_count": 5,
   "id": "6534dc4c",
   "metadata": {},
   "outputs": [],
   "source": [
    "ans = zt_ind_solve_power(effect_size=es(prop1=default_conversion, prop2=test_group_conversion), alpha=alp, power=powerr, alternative=\"two-sided\")"
   ]
  },
  {
   "cell_type": "code",
   "execution_count": 6,
   "id": "86a7694c",
   "metadata": {},
   "outputs": [
    {
     "name": "stdout",
     "output_type": "stream",
     "text": [
      "1564.5290112626938\n"
     ]
    }
   ],
   "source": [
    "print(ans)"
   ]
  },
  {
   "cell_type": "code",
   "execution_count": null,
   "id": "4369cd56",
   "metadata": {},
   "outputs": [],
   "source": []
  }
 ],
 "metadata": {
  "kernelspec": {
   "display_name": "Python 3 (ipykernel)",
   "language": "python",
   "name": "python3"
  },
  "language_info": {
   "codemirror_mode": {
    "name": "ipython",
    "version": 3
   },
   "file_extension": ".py",
   "mimetype": "text/x-python",
   "name": "python",
   "nbconvert_exporter": "python",
   "pygments_lexer": "ipython3",
   "version": "3.8.2"
  }
 },
 "nbformat": 4,
 "nbformat_minor": 5
}
